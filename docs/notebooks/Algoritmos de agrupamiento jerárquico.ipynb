{
 "cells": [
  {
   "cell_type": "markdown",
   "metadata": {},
   "source": [
    "# 1.3 Algoritmos de agrupamiento (clustering)\n",
    "\n",
    "## 1.3.1 Ejemplo de aplicación\n",
    "\n",
    "Una empresa de juegos en línea está analizando el comportamiento de sus clientes con el fin de ofrecerles los productos y características más adecuados a sus intereses. En este estudio se miden dos características: número de horas diarias jugando y número de horas diarias charlando (chateando) con otros jugadores, ambas en valor promedio para cada jugador. Los objetivos son dos: El primero, determinar qué tipos o clases de jugadores existen, según su actividad; el segundo, clasificar a los nuevos jugadores en alguna de esas clases para poder ofrecerles las condiciones y productos más adecuados.\n",
    "\n",
    "Para mostrar la ejecución paso a paso de algunos algoritmos de agrupamiento utilizaremos datos sintéticos (generados artificialmente) con el propósito de que ilustren más claramente los métodos que se expondrán a continuación."
   ]
  },
  {
   "cell_type": "code",
   "execution_count": 1,
   "metadata": {},
   "outputs": [],
   "source": [
    "import pandas as pd"
   ]
  },
  {
   "cell_type": "code",
   "execution_count": 2,
   "metadata": {},
   "outputs": [
    {
     "data": {
      "text/html": [
       "<div>\n",
       "<style scoped>\n",
       "    .dataframe tbody tr th:only-of-type {\n",
       "        vertical-align: middle;\n",
       "    }\n",
       "\n",
       "    .dataframe tbody tr th {\n",
       "        vertical-align: top;\n",
       "    }\n",
       "\n",
       "    .dataframe thead th {\n",
       "        text-align: right;\n",
       "    }\n",
       "</style>\n",
       "<table border=\"1\" class=\"dataframe\">\n",
       "  <thead>\n",
       "    <tr style=\"text-align: right;\">\n",
       "      <th></th>\n",
       "      <th>Jugador</th>\n",
       "      <th>Horas juego</th>\n",
       "      <th>Horas chat</th>\n",
       "    </tr>\n",
       "  </thead>\n",
       "  <tbody>\n",
       "    <tr>\n",
       "      <th>0</th>\n",
       "      <td>A</td>\n",
       "      <td>0.5</td>\n",
       "      <td>4.5</td>\n",
       "    </tr>\n",
       "    <tr>\n",
       "      <th>1</th>\n",
       "      <td>B</td>\n",
       "      <td>1.0</td>\n",
       "      <td>4.0</td>\n",
       "    </tr>\n",
       "    <tr>\n",
       "      <th>2</th>\n",
       "      <td>C</td>\n",
       "      <td>0.5</td>\n",
       "      <td>2.0</td>\n",
       "    </tr>\n",
       "    <tr>\n",
       "      <th>3</th>\n",
       "      <td>D</td>\n",
       "      <td>1.0</td>\n",
       "      <td>1.5</td>\n",
       "    </tr>\n",
       "    <tr>\n",
       "      <th>4</th>\n",
       "      <td>E</td>\n",
       "      <td>2.5</td>\n",
       "      <td>2.0</td>\n",
       "    </tr>\n",
       "    <tr>\n",
       "      <th>5</th>\n",
       "      <td>F</td>\n",
       "      <td>3.5</td>\n",
       "      <td>3.5</td>\n",
       "    </tr>\n",
       "    <tr>\n",
       "      <th>6</th>\n",
       "      <td>G</td>\n",
       "      <td>4.5</td>\n",
       "      <td>2.5</td>\n",
       "    </tr>\n",
       "    <tr>\n",
       "      <th>7</th>\n",
       "      <td>H</td>\n",
       "      <td>4.0</td>\n",
       "      <td>1.0</td>\n",
       "    </tr>\n",
       "  </tbody>\n",
       "</table>\n",
       "</div>"
      ],
      "text/plain": [
       "  Jugador  Horas juego  Horas chat\n",
       "0       A          0.5         4.5\n",
       "1       B          1.0         4.0\n",
       "2       C          0.5         2.0\n",
       "3       D          1.0         1.5\n",
       "4       E          2.5         2.0\n",
       "5       F          3.5         3.5\n",
       "6       G          4.5         2.5\n",
       "7       H          4.0         1.0"
      ]
     },
     "execution_count": 2,
     "metadata": {},
     "output_type": "execute_result"
    }
   ],
   "source": [
    "data = pd.DataFrame({\n",
    "    'Jugador': ['A', 'B', 'C', 'D', 'E', 'F', 'G', 'H'],\n",
    "    'Horas juego': [0.5, 1., 0.5, 1., 2.5, 3.5, 4.5, 4.],\n",
    "    'Horas chat': [4.5, 4., 2., 1.5, 2., 3.5, 2.5, 1.],\n",
    "})\n",
    "\n",
    "data"
   ]
  },
  {
   "cell_type": "code",
   "execution_count": 3,
   "metadata": {},
   "outputs": [],
   "source": [
    "import matplotlib.pyplot as plt\n",
    "\n",
    "plt.style.use('ggplot')"
   ]
  },
  {
   "cell_type": "code",
   "execution_count": 4,
   "metadata": {},
   "outputs": [
    {
     "data": {
      "image/png": "[encoded data removed]",
      "text/plain": [
       "<Figure size 432x288 with 1 Axes>"
      ]
     },
     "metadata": {},
     "output_type": "display_data"
    }
   ],
   "source": [
    "horas_juego = data['Horas juego']\n",
    "horas_chat = data['Horas chat']\n",
    "\n",
    "plt.scatter(horas_juego, horas_chat)\n",
    "\n",
    "plt.title('Actividad de 8 jugadores de ejemplo')\n",
    "\n",
    "plt.xlabel('Horas juego')\n",
    "plt.ylabel('Horas chat')\n",
    "\n",
    "for i, name in enumerate(data['Jugador']):\n",
    "    plt.annotate(name, (horas_juego[i], horas_chat[i]))\n",
    "\n",
    "plt.show()"
   ]
  },
  {
   "cell_type": "markdown",
   "metadata": {},
   "source": [
    "## 1.3.2 Conceptos generales\n",
    "\n",
    "La tarea de agrupamiento de datos es una tarea no supervisada, ya que los datos que se le proporcionan al sistema no llevan asociada ninguna etiqueta\n",
    "o información añadida por un revisor humano; por el contrario, es el propio método de agrupamiento el que debe descubrir las nuevas clases o grupos a\n",
    "partir de los datos recibidos.\n",
    "\n",
    "Si bien los algoritmos de agrupamiento son utilizados como herramienta para crear recomendadores, sus aplicaciones van mucho más allá y se emplean en numerosos ámbitos, como por ejemplo:\n",
    "\n",
    "* Procesamiento de imagen, para separar unas zonas de otras (típicamente con imágenes satelitales).\n",
    "\n",
    "* Agrupamiento de genes relacionados con una determinada característica o patología.\n",
    "\n",
    "* Agrupamiento automático de textos por temas.\n",
    "\n",
    "* Definir tipos de clientes y orientar las estrategias comerciales en función de esos grupos.\n",
    "\n",
    "* En general, definir grupos en conjuntos de datos de los que no se conoce una subdivisión previa: astronomía, física, química, biología, medicina, farmacología, economía, sociología, psicología, etc.\n",
    "\n",
    "A menudo el agrupamiento de los datos precede a la clasificación de nuevos datos en alguno de los grupos obtenidos en el agrupamiento; por esa razón,\n",
    "el agrupamiento y la clasificación de datos están estrechamente relacionados.\n",
    "\n",
    "Los algoritmos de agrupamiento se pueden clasificar en dos tipos: los jerárquicos con progresivos, es decir que van formando grupos progresivamente y los particionales que sólo calculan una partición de los datos.\n",
    "\n",
    "Utilizando algoritmos de agrupamiento es posible construir recomendadores basados en modelos, llamados así porque a diferencia de los recomendadores\n",
    "basados en datos no necesitan almacenar todos los datos de que se dispone, sino que producen una abstracción de los datos dividiéndolos en grupos; para\n",
    "producir una recomendación sólo es necesario asociar un usuario o producto a un grupo existente, por lo que la información a almacenar se reduce a la\n",
    "descripción de los grupos obtenidos previamente. De esta forma la generación de una recomendación se simplifica notablemente, y por tanto los recursos requeridos para generarla.\n",
    "\n",
    "> Más allá de los recomendadores, una de las características más importantes de los algoritmos de agrupamiento es que permiten organizar datos que en principio no se sabe o puede clasificar, evitando criterios subjetivos de clasificación, lo que produce una información muy valiosa a partir de datos desorganizados.\n",
    "\n",
    "Una característica común a casi todos los algoritmos de agrupamiento es que no son capaces de determinar por sí mismos el número de grupos idóneo, sino\n",
    "que hay que fijarlo de antemano o bien utilizar algún criterio de cohesión para saber cuándo detenerse (en el caso de los jerárquicos). En general ello requiere probar con diferentes números de grupos hasta obtener unos resultados adecuados."
   ]
  },
  {
   "cell_type": "markdown",
   "metadata": {},
   "source": [
    "## 1.3.3 Agrupamiento jerárquico.\n",
    "\n",
    "Hay dos tipos de algoritmos de agrupamiento jerárquicos. El algoritmo aglomerativo parte de una fragmentación completa de los datos (cada dato tiene su propio grupo) y fusiona grupos progresivamente hasta alcanzar la situación contraria: todos los datos están reunidos en un único grupo. El algoritmo divisivo, por su parte, procede de la forma opuesta: parte de un único grupo que contiene todos los datos y lo va dividiendo progresivamente hasta tener un grupo para cada dato.\n",
    "\n",
    "En los algoritmos jerárquicos de agrupamiento, se parte del estado inicial y se aplica un criterio para decidir qué grupos unir o separar en cada paso, hasta que se alcance el estado final. Si bien conceptualmente ambos tipos de algoritmos jerárquicos (aglomerativo y divisivo) son equivalentes, en la práctica el algoritmo aglomerativo es más sencillo de diseñar por la razón de que sólo hay una forma de unir dos conjuntos, pero hay muchas formas de dividir un conjunto de más de dos elementos.\n",
    "\n",
    "### Criterios de enlace\n",
    "\n",
    "En cada paso de un algoritmo de agrupamiento jerárquico hay que decidir qué grupos unir (o dividir). Para ello hay que determinar qué grupos están\n",
    "más cercanos, o bien qué grupo está menos cohesionado. Supongamos que estamos programando un algoritmo aglomerativo; la distancia entre dos grupos puede determinarse según diferentes expresiones, que reciben el nombre de **criterios de enlace**.\n",
    "\n",
    "Algunos de los criterios más utilizados para medir la distancia entre dos grupos $A$ y $B$ son los siguientes:\n",
    "\n",
    "* Distancia máxima entre elementos de los grupos (enlace completo):\n",
    "\n",
    "$$max\\{d(x,y) : x \\in A, y \\in B \\}$$\n",
    "\n",
    "* Distancia mínima entre elementos de los grupos (enlace simple):\n",
    "\n",
    "$$min\\{d(x,y) : x \\in A, y \\in B \\}$$\n",
    "\n",
    "* Distancia media entre elementos de los grupos (enlace medio):\n",
    "\n",
    "$$\\frac{1}{{\\left | A \\right |}{\\left | B \\right |}}\\sum_{x\\in{A}}\\sum_{y\\in{B}} d(x,y)$$\n",
    "\n",
    "Una desventaja del criterio de enlace simple es que puede provocar que un único elemento fuerce la unión de todo su conjunto con otro conjunto que, por lo demás, no sea especialmente cercano. Por esa razón en general se preferirán otros criterios (completo, medio u otros)."
   ]
  },
  {
   "cell_type": "code",
   "execution_count": 5,
   "metadata": {},
   "outputs": [],
   "source": [
    "from math import sqrt"
   ]
  },
  {
   "cell_type": "code",
   "execution_count": 6,
   "metadata": {},
   "outputs": [],
   "source": [
    "def distEuclidea(v1: list, v2: list) -> float:\n",
    "    \"\"\"Calcula la distancia euclídea entre dos vectores\"\"\"\n",
    "       \n",
    "    return sqrt(\n",
    "        sum(\n",
    "            pow(x - y, 2) for x, y in zip(v1, v2)\n",
    "        )\n",
    "    )"
   ]
  },
  {
   "cell_type": "code",
   "execution_count": 7,
   "metadata": {},
   "outputs": [],
   "source": [
    " def completeLink(points: list, g1: list, g2: list, dist = distEuclidea) -> float:\n",
    "    \"\"\"\n",
    "        Calcula el enlace completo (máximo) entre dos grupos\n",
    "        Distancia máxima entre dos puntos de cada grupo\n",
    "    \"\"\"\n",
    "        \n",
    "    dmax = 0.0\n",
    "        \n",
    "    for p1 in g1:\n",
    "        for p2 in g2:\n",
    "            d = dist(points[p1], points[p2])\n",
    "            if d > dmax:\n",
    "                dmax = d\n",
    "                    \n",
    "    return dmax"
   ]
  },
  {
   "cell_type": "code",
   "execution_count": 8,
   "metadata": {},
   "outputs": [],
   "source": [
    "def simpleLink(points: list, g1: list, g2: list, dist = distEuclidea) -> float:\n",
    "    \"\"\"\n",
    "        Calcula el enlace simple (mínimo) entre dos grupos\n",
    "        Distancia mínima entre dos puntos de cada grupo\n",
    "    \"\"\"\n",
    "    dmin = float('inf')\n",
    "    \n",
    "    for p1 in g1:\n",
    "        for p2 in g2:\n",
    "            d = dist(points[p1], points[p2])\n",
    "            if d < dmin:\n",
    "                dmin = d\n",
    "                \n",
    "    return dmin"
   ]
  },
  {
   "cell_type": "markdown",
   "metadata": {},
   "source": [
    "La función `joinGroups` toma un agrupamiento, selecciona los dos grupos más cercanos según el criterio indicado y los fusiona`"
   ]
  },
  {
   "cell_type": "code",
   "execution_count": 9,
   "metadata": {},
   "outputs": [],
   "source": [
    "def joinGroups(\n",
    "    points: list, groups: dict, criterion = completeLink, dist = distEuclidea\n",
    "):\n",
    "    \"\"\"\n",
    "        Dado un conjunto de puntos y un agrupamiento, fusiona los dos grupos más cercanos\n",
    "        con el criterio indicado.\n",
    "        [groups] debe contener al menos dos grupos, y vuelve modificado,\n",
    "        con los grupos elegidos fusionados\n",
    "    \"\"\"\n",
    "    \n",
    "    if len(groups) < 2:\n",
    "        return\n",
    "    \n",
    "    # Busca el par de grupos más adecuado\n",
    "    # (valor mínimo del criterio utilizado)\n",
    "    dmin = float('inf')\n",
    "    names = list(groups.keys())\n",
    "    \n",
    "    for i in range(len(names) - 1):\n",
    "        for j in range(i+1, len(names)):\n",
    "            d = criterion(points, groups[names[i]], groups[names[j]], dist)\n",
    "            \n",
    "            if d < dmin:\n",
    "                dmin = d\n",
    "                candidate = (names[i], names[j])\n",
    "                \n",
    "    # El nombre del nuevo grupo será el más bajo de los dos\n",
    "    nameGroup = min(candidate)\n",
    "    deleteGroup = max(candidate)\n",
    "    \n",
    "    # Fusionar los dos grupos:\n",
    "    # Añade los elementos a uno de ellos y elimina el otro del diccionario\n",
    "    groups[nameGroup].extend(groups[deleteGroup])\n",
    "    del(groups[deleteGroup])"
   ]
  },
  {
   "cell_type": "markdown",
   "metadata": {},
   "source": [
    "La función `agglomerativeClustering` recibe un grupo inicial donde cada punto corresponde a un grupo y los va fusionando hasta que sólo quedan `n` grupos; en cada fusión muestra el agrupamiento resultante."
   ]
  },
  {
   "cell_type": "code",
   "execution_count": 10,
   "metadata": {},
   "outputs": [],
   "source": [
    "def agglomerativeClustering(n: int, points: list, groups: dict, criterion = completeLink, dist = distEuclidea):\n",
    "    \"\"\"\n",
    "        Agrupamiento jerárquico aglomerativo: fusiona grupos hasta obtener n grupos.\n",
    "    \"\"\"\n",
    "    \n",
    "    # Generación del agrupamiento inicial (cada punto en un grupo)\n",
    "   \n",
    "    print('Grupo inicial')\n",
    "    print(groups)\n",
    "    \n",
    "    i = 0\n",
    "    \n",
    "    # Fusionar grupos hasta conseguir n grupos\n",
    "    while len(groups) > n:\n",
    "        i += 1\n",
    "        joinGroups(points, groups, criterion, dist)\n",
    "        print(f'\\nIteración {i}')\n",
    "        print(groups)"
   ]
  },
  {
   "cell_type": "code",
   "execution_count": 11,
   "metadata": {},
   "outputs": [],
   "source": [
    "points = [(row['Horas juego'], row['Horas chat']) for row in data.iloc]\n",
    "groups1 = { row['Jugador']: [i] for i, row in enumerate(data.iloc) }\n",
    "groups3 = { row['Jugador']: [i] for i, row in enumerate(data.iloc) }"
   ]
  },
  {
   "cell_type": "code",
   "execution_count": 12,
   "metadata": {},
   "outputs": [
    {
     "name": "stdout",
     "output_type": "stream",
     "text": [
      "Grupo inicial\n",
      "{'A': [0], 'B': [1], 'C': [2], 'D': [3], 'E': [4], 'F': [5], 'G': [6], 'H': [7]}\n",
      "\n",
      "Iteración 1\n",
      "{'A': [0, 1], 'C': [2], 'D': [3], 'E': [4], 'F': [5], 'G': [6], 'H': [7]}\n",
      "\n",
      "Iteración 2\n",
      "{'A': [0, 1], 'C': [2, 3], 'E': [4], 'F': [5], 'G': [6], 'H': [7]}\n",
      "\n",
      "Iteración 3\n",
      "{'A': [0, 1], 'C': [2, 3], 'E': [4], 'F': [5, 6], 'H': [7]}\n",
      "\n",
      "Iteración 4\n",
      "{'A': [0, 1], 'C': [2, 3], 'E': [4, 7], 'F': [5, 6]}\n",
      "\n",
      "Iteración 5\n",
      "{'A': [0, 1], 'C': [2, 3], 'E': [4, 7, 5, 6]}\n",
      "\n",
      "Iteración 6\n",
      "{'A': [0, 1, 2, 3], 'E': [4, 7, 5, 6]}\n",
      "\n",
      "Iteración 7\n",
      "{'A': [0, 1, 2, 3, 4, 7, 5, 6]}\n"
     ]
    }
   ],
   "source": [
    "agglomerativeClustering(1, points, groups1)"
   ]
  },
  {
   "cell_type": "code",
   "execution_count": 13,
   "metadata": {},
   "outputs": [
    {
     "name": "stdout",
     "output_type": "stream",
     "text": [
      "Grupo inicial\n",
      "{'A': [0], 'B': [1], 'C': [2], 'D': [3], 'E': [4], 'F': [5], 'G': [6], 'H': [7]}\n",
      "\n",
      "Iteración 1\n",
      "{'A': [0, 1], 'C': [2], 'D': [3], 'E': [4], 'F': [5], 'G': [6], 'H': [7]}\n",
      "\n",
      "Iteración 2\n",
      "{'A': [0, 1], 'C': [2, 3], 'E': [4], 'F': [5], 'G': [6], 'H': [7]}\n",
      "\n",
      "Iteración 3\n",
      "{'A': [0, 1], 'C': [2, 3], 'E': [4], 'F': [5, 6], 'H': [7]}\n",
      "\n",
      "Iteración 4\n",
      "{'A': [0, 1], 'C': [2, 3], 'E': [4, 7], 'F': [5, 6]}\n",
      "\n",
      "Iteración 5\n",
      "{'A': [0, 1], 'C': [2, 3], 'E': [4, 7, 5, 6]}\n"
     ]
    }
   ],
   "source": [
    "agglomerativeClustering(3, points, groups3)"
   ]
  },
  {
   "cell_type": "code",
   "execution_count": 14,
   "metadata": {},
   "outputs": [
    {
     "data": {
      "image/png": "[encoded data removed]",
      "text/plain": [
       "<Figure size 432x288 with 1 Axes>"
      ]
     },
     "metadata": {},
     "output_type": "display_data"
    }
   ],
   "source": [
    "for group in groups3:\n",
    "    plt.scatter([points[p][0] for p in groups3[group]], [points[p][1] for p in groups3[group]])\n",
    "    plt.annotate(group, points[groups3[group][0]])"
   ]
  },
  {
   "cell_type": "markdown",
   "metadata": {},
   "source": [
    "Una posible optimización consistiría en almacenar las distancias entre grupos para no tener que recalcularlas todas en cada fusión. En el código de ejemplo no se ha hecho así para no complicarlo por cuestiones de simple eficiencia."
   ]
  },
  {
   "cell_type": "markdown",
   "metadata": {},
   "source": [
    "### Implementación con `sklearn`"
   ]
  },
  {
   "cell_type": "code",
   "execution_count": 15,
   "metadata": {},
   "outputs": [],
   "source": [
    "from sklearn.cluster import AgglomerativeClustering"
   ]
  },
  {
   "cell_type": "code",
   "execution_count": 16,
   "metadata": {},
   "outputs": [],
   "source": [
    "model = AgglomerativeClustering(n_clusters=3,  affinity='euclidean')"
   ]
  },
  {
   "cell_type": "code",
   "execution_count": 17,
   "metadata": {},
   "outputs": [
    {
     "data": {
      "text/plain": [
       "[(0.5, 4.5),\n",
       " (1.0, 4.0),\n",
       " (0.5, 2.0),\n",
       " (1.0, 1.5),\n",
       " (2.5, 2.0),\n",
       " (3.5, 3.5),\n",
       " (4.5, 2.5),\n",
       " (4.0, 1.0)]"
      ]
     },
     "execution_count": 17,
     "metadata": {},
     "output_type": "execute_result"
    }
   ],
   "source": [
    "points"
   ]
  },
  {
   "cell_type": "code",
   "execution_count": 18,
   "metadata": {},
   "outputs": [
    {
     "data": {
      "text/plain": [
       "AgglomerativeClustering(n_clusters=3)"
      ]
     },
     "execution_count": 18,
     "metadata": {},
     "output_type": "execute_result"
    }
   ],
   "source": [
    "model.fit(points)"
   ]
  },
  {
   "cell_type": "code",
   "execution_count": 19,
   "metadata": {},
   "outputs": [
    {
     "data": {
      "text/plain": [
       "array([2, 2, 1, 1, 0, 0, 0, 0])"
      ]
     },
     "execution_count": 19,
     "metadata": {},
     "output_type": "execute_result"
    }
   ],
   "source": [
    "model.labels_"
   ]
  },
  {
   "cell_type": "code",
   "execution_count": 20,
   "metadata": {},
   "outputs": [],
   "source": [
    "from collections import defaultdict"
   ]
  },
  {
   "cell_type": "code",
   "execution_count": 21,
   "metadata": {},
   "outputs": [
    {
     "data": {
      "text/plain": [
       "defaultdict(list, {2: [0, 1], 1: [2, 3], 0: [4, 5, 6, 7]})"
      ]
     },
     "execution_count": 21,
     "metadata": {},
     "output_type": "execute_result"
    }
   ],
   "source": [
    "groups = defaultdict(list)\n",
    "\n",
    "for i, label in enumerate(model.labels_):\n",
    "    groups[label].append(i)\n",
    "    \n",
    "groups"
   ]
  },
  {
   "cell_type": "code",
   "execution_count": 22,
   "metadata": {},
   "outputs": [
    {
     "data": {
      "image/png": "[encoded data removed]",
      "text/plain": [
       "<Figure size 432x288 with 1 Axes>"
      ]
     },
     "metadata": {},
     "output_type": "display_data"
    }
   ],
   "source": [
    "for group in groups:\n",
    "    plt.scatter([points[p][0] for p in groups[group]], [points[p][1] for p in groups[group]])\n",
    "    plt.annotate(group, points[groups[group][0]])"
   ]
  },
  {
   "cell_type": "markdown",
   "metadata": {},
   "source": [
    "## Conclusiones\n",
    "\n",
    "El principal interés de los algoritmos jerárquicos radica en que generan diferentes grados de agrupamiento, y su evolución, lo que puede ser tan útil como la obtención de un agrupamiento definitivo. Además son sencillos conceptualmente y desde el punto de vista de la programación. Por otra parte, los algoritmos jerárquicos de agrupamiento actúan de forma voraz (greedy), ya que en cada paso toman la mejor decisión en ese momento, sin tener en cuenta la futura conveniencia de tal decisión. Por ese motivo, en general dan peor resultado que otros algoritmos de agrupamiento."
   ]
  }
 ],
 "metadata": {
  "kernelspec": {
   "display_name": "Python 3",
   "language": "python",
   "name": "python3"
  },
  "language_info": {
   "codemirror_mode": {
    "name": "ipython",
    "version": 3
   },
   "file_extension": ".py",
   "mimetype": "text/x-python",
   "name": "python",
   "nbconvert_exporter": "python",
   "pygments_lexer": "ipython3",
   "version": "3.8.5"
  }
 },
 "nbformat": 4,
 "nbformat_minor": 4
}
