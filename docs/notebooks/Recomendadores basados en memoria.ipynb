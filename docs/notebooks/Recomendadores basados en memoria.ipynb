{
 "cells": [
  {
   "cell_type": "markdown",
   "metadata": {},
   "source": [
    "# 1.2 Recomendadores basados en memoria\n",
    "\n",
    "Se habla de recomendadores basados en memoria porque requieren mantener todos los datos disponibles para poder realizar una recomendación; además, cada vez que se introduce un nuevo dato o que se solicita una recomendación estos recomendadores han de efectuar sus operaciones sobre el conjunto completo de datos, lo que provoca que sean relativamente ineficientes, especialmente en aplicaciones con volúmenes de datos grandes. No obstante, tienen interés porque son muy sencillos conceptualmente y su programación es relativamente rápida."
   ]
  },
  {
   "cell_type": "markdown",
   "metadata": {},
   "source": [
    "## 1.2.1 Aproximaciones simples\n",
    "\n",
    "La forma más sencilla de generar una valoración global de un conjunto de elemenos es promediar su grado de valoración. En el ejemplo de las películas, si una película tiene cuatro valoraciones (3, 5, 4, 3), su valoración media será 3,75; las películas con mayor valoración global serán las sugeridas al usuario."
   ]
  },
  {
   "cell_type": "code",
   "execution_count": 1,
   "metadata": {},
   "outputs": [],
   "source": [
    "import pandas as pd"
   ]
  },
  {
   "cell_type": "code",
   "execution_count": 2,
   "metadata": {},
   "outputs": [
    {
     "data": {
      "text/html": [
       "<div>\n",
       "<style scoped>\n",
       "    .dataframe tbody tr th:only-of-type {\n",
       "        vertical-align: middle;\n",
       "    }\n",
       "\n",
       "    .dataframe tbody tr th {\n",
       "        vertical-align: top;\n",
       "    }\n",
       "\n",
       "    .dataframe thead th {\n",
       "        text-align: right;\n",
       "    }\n",
       "</style>\n",
       "<table border=\"1\" class=\"dataframe\">\n",
       "  <thead>\n",
       "    <tr style=\"text-align: right;\">\n",
       "      <th></th>\n",
       "      <th>userId</th>\n",
       "      <th>movieId</th>\n",
       "      <th>rating</th>\n",
       "      <th>timestamp</th>\n",
       "    </tr>\n",
       "  </thead>\n",
       "  <tbody>\n",
       "    <tr>\n",
       "      <th>0</th>\n",
       "      <td>1</td>\n",
       "      <td>1</td>\n",
       "      <td>4.0</td>\n",
       "      <td>964982703</td>\n",
       "    </tr>\n",
       "    <tr>\n",
       "      <th>1</th>\n",
       "      <td>1</td>\n",
       "      <td>3</td>\n",
       "      <td>4.0</td>\n",
       "      <td>964981247</td>\n",
       "    </tr>\n",
       "    <tr>\n",
       "      <th>2</th>\n",
       "      <td>1</td>\n",
       "      <td>6</td>\n",
       "      <td>4.0</td>\n",
       "      <td>964982224</td>\n",
       "    </tr>\n",
       "    <tr>\n",
       "      <th>3</th>\n",
       "      <td>1</td>\n",
       "      <td>47</td>\n",
       "      <td>5.0</td>\n",
       "      <td>964983815</td>\n",
       "    </tr>\n",
       "    <tr>\n",
       "      <th>4</th>\n",
       "      <td>1</td>\n",
       "      <td>50</td>\n",
       "      <td>5.0</td>\n",
       "      <td>964982931</td>\n",
       "    </tr>\n",
       "  </tbody>\n",
       "</table>\n",
       "</div>"
      ],
      "text/plain": [
       "   userId  movieId  rating  timestamp\n",
       "0       1        1     4.0  964982703\n",
       "1       1        3     4.0  964981247\n",
       "2       1        6     4.0  964982224\n",
       "3       1       47     5.0  964983815\n",
       "4       1       50     5.0  964982931"
      ]
     },
     "execution_count": 2,
     "metadata": {},
     "output_type": "execute_result"
    }
   ],
   "source": [
    "ratings = pd.read_csv('data/ml-latest-small/ratings.csv')\n",
    "\n",
    "ratings.head()"
   ]
  },
  {
   "cell_type": "code",
   "execution_count": 3,
   "metadata": {},
   "outputs": [],
   "source": [
    "from collections import defaultdict\n",
    "\n",
    "movie_rating = defaultdict(list)"
   ]
  },
  {
   "cell_type": "code",
   "execution_count": 4,
   "metadata": {},
   "outputs": [
    {
     "name": "stdout",
     "output_type": "stream",
     "text": [
      "CPU times: user 17.8 s, sys: 566 ms, total: 18.3 s\n",
      "Wall time: 20.4 s\n"
     ]
    }
   ],
   "source": [
    "%%time\n",
    "for rate in ratings.iloc:\n",
    "    movie_rating[rate['movieId']].append(rate['rating'])"
   ]
  },
  {
   "cell_type": "code",
   "execution_count": 5,
   "metadata": {},
   "outputs": [],
   "source": [
    "movie_global_rate = [ \n",
    "    (movieId, sum(movie_rating[movieId])/float(len(movie_rating[movieId])))\n",
    "    for movieId in movie_rating \n",
    "]"
   ]
  },
  {
   "cell_type": "code",
   "execution_count": 6,
   "metadata": {},
   "outputs": [],
   "source": [
    "movie_global_rate.sort(key = lambda x : x[1], reverse = True)"
   ]
  },
  {
   "cell_type": "code",
   "execution_count": 7,
   "metadata": {},
   "outputs": [
    {
     "data": {
      "text/plain": [
       "[(131724.0, 5.0),\n",
       " (5746.0, 5.0),\n",
       " (6835.0, 5.0),\n",
       " (3851.0, 5.0),\n",
       " (1151.0, 5.0),\n",
       " (1631.0, 5.0),\n",
       " (2075.0, 5.0),\n",
       " (176601.0, 5.0),\n",
       " (92494.0, 5.0),\n",
       " (102217.0, 5.0)]"
      ]
     },
     "execution_count": 7,
     "metadata": {},
     "output_type": "execute_result"
    }
   ],
   "source": [
    "movie_global_rate[:10]"
   ]
  },
  {
   "cell_type": "code",
   "execution_count": 8,
   "metadata": {},
   "outputs": [
    {
     "data": {
      "text/plain": [
       "[(102735.0, 0.5),\n",
       " (102749.0, 0.5),\n",
       " (104017.0, 0.5),\n",
       " (111785.0, 0.5),\n",
       " (122627.0, 0.5),\n",
       " (136297.0, 0.5),\n",
       " (145724.0, 0.5),\n",
       " (61818.0, 0.5),\n",
       " (72424.0, 0.5),\n",
       " (145951.0, 0.5)]"
      ]
     },
     "execution_count": 8,
     "metadata": {},
     "output_type": "execute_result"
    }
   ],
   "source": [
    "movie_global_rate[-10:]"
   ]
  },
  {
   "cell_type": "code",
   "execution_count": 9,
   "metadata": {},
   "outputs": [
    {
     "data": {
      "text/plain": [
       "9724"
      ]
     },
     "execution_count": 9,
     "metadata": {},
     "output_type": "execute_result"
    }
   ],
   "source": [
    "len(movie_global_rate)"
   ]
  },
  {
   "cell_type": "markdown",
   "metadata": {},
   "source": [
    "La principal limitación de este método radica en que no tiene en cuenta las preferencias individuales de cada usuario. No obstante, esta estrategia puede ser útil con usuarios nuevos, de los que no se conoce sus gustos. Una ventaja es que no depende de ninguna métrica para efectuar sus recomendaciones."
   ]
  },
  {
   "cell_type": "markdown",
   "metadata": {},
   "source": [
    "## 1.2.2 Recomendación ponderada\n",
    "\n",
    "La idea es sencilla: se trata de obtener una valoración global del conjunto de elementos (productos) pero en lugar de calcular la media aritmética de las valoraciones, hay que calcular la media de las valoraciones ponderada por la afinidad del usuario correspondiente. De esa manera, la valoración global de los productos está personalizada para cada usuario y, por tanto, debería resultar más útil y acertada."
   ]
  },
  {
   "cell_type": "markdown",
   "metadata": {},
   "source": [
    "$vp_j(x)$ es la valoración ponderada de una película $x$ para el usuario $j$, y viene dada por la expresión:\n",
    "\n",
    "![valoracion_ponderada](/assets/images/valoracion_ponderada.png)\n",
    "\n",
    "donde $v_i(x)$ es la valoración de la película $x$ por el usuario $i$ y $s(i,j)$ es la similitud entre los usuarios $i$ y $j$. Por último, $V(x)$ es el conjunto de usuarios que han valorado la película $x$."
   ]
  },
  {
   "cell_type": "code",
   "execution_count": 10,
   "metadata": {},
   "outputs": [
    {
     "name": "stdout",
     "output_type": "stream",
     "text": [
      "CPU times: user 16.9 s, sys: 489 ms, total: 17.4 s\n",
      "Wall time: 18 s\n"
     ]
    }
   ],
   "source": [
    "%%time\n",
    "\n",
    "users_ratings = defaultdict(dict)\n",
    "\n",
    "for rate in ratings.iloc:\n",
    "    users_ratings[rate['userId']][rate['movieId']] = rate['rating'] "
   ]
  },
  {
   "cell_type": "code",
   "execution_count": 11,
   "metadata": {},
   "outputs": [],
   "source": [
    "from math import sqrt"
   ]
  },
  {
   "cell_type": "code",
   "execution_count": 12,
   "metadata": {},
   "outputs": [],
   "source": [
    "def coefPearson(dic1: dict, dic2: dict) -> float:\n",
    "    # Obtener los elementos comunes a los dos diccionarios\n",
    "    common = [x for x in dic1 if x in dic2]\n",
    "    n = float(len(common))\n",
    "    \n",
    "    # Si no hay elementos comunes, se devuelve cero; si no\n",
    "    # se calcula el coeficiente\n",
    "    if n == 0:\n",
    "        return 0\n",
    "    \n",
    "    # Cálculo de las medias de cada diccionario\n",
    "    mean1 = sum([dic1[x] for x in common])/n\n",
    "    mean2 = sum([dic2[x] for x in common])/n\n",
    "    \n",
    "    # Cálculo del numerador y del denominador\n",
    "    num = sum([(dic1[x] - mean1)*(dic2[x] - mean2) for x in common])\n",
    "    \n",
    "    den1 = sqrt(sum([pow((dic1[x] - mean1),2) for x in common]))\n",
    "    den2 = sqrt(sum([pow((dic2[x] - mean2),2) for x in common]))\n",
    "    \n",
    "    den = den1*den2\n",
    "    \n",
    "    # Calculo del coeficiente si es posible, o devuelve 0\n",
    "    if den == 0:\n",
    "        return 0\n",
    "    \n",
    "    return num/den"
   ]
  },
  {
   "cell_type": "code",
   "execution_count": 13,
   "metadata": {},
   "outputs": [],
   "source": [
    "def valoracionPonderada(usersRatings: dict, userId: int, simil = coefPearson) -> list:\n",
    "    \"\"\"\n",
    "        Genera una lista ordenada de valoraciones ponderadas a partir \n",
    "        de un diccionario de valoraciones de usuarios y un id de usuario.\n",
    "        Se puede elegir la función de similitud a utilizar\n",
    "    \"\"\"\n",
    "    \n",
    "    # En primer lugar se genera un diccionario con las similitudes \n",
    "    # del usuario [userId] con todos los demás\n",
    "    # Este diccionario podría almacenarse para evitar recalcularlo\n",
    "    simils = { \n",
    "        x: simil(usersRatings[userId], usersRatings[x]) \n",
    "        for x in usersRatings if x != userId \n",
    "    }\n",
    "    \n",
    "    # Diccionarios auxiliares\n",
    "    # { movieId: [valoracion * similitud usuarios] }\n",
    "    # { movieId: [similitud usuarios] }\n",
    "    # numerador y denominador de la valoración ponderada\n",
    "    \n",
    "    num = defaultdict(list)\n",
    "    den = defaultdict(list)\n",
    "    \n",
    "    # Se recorre el diccionario de valoraciones y se rellenan \n",
    "    # los diccionarios auxiliares con los valores encontrados\n",
    "    for userId in simils:\n",
    "        for movieId in usersRatings[userId]:\n",
    "            \n",
    "            num[movieId].append(\n",
    "                usersRatings[userId][movieId]*simils[userId]\n",
    "            )\n",
    "            \n",
    "            den[movieId].append(simils[userId])\n",
    "            \n",
    "    # Se calculan y ordenan las valoraciones ponderadas\n",
    "    result = []\n",
    "    for movieId in num:\n",
    "        s1 = sum(num[movieId])\n",
    "        s2 = sum(den[movieId])\n",
    "        \n",
    "        if s2 == 0:\n",
    "            mean = 0\n",
    "        else:\n",
    "            mean = s1/s2\n",
    "            \n",
    "        result.append((movieId, mean))\n",
    "        \n",
    "    result.sort(key = lambda x: x[1], reverse = True)\n",
    "    \n",
    "    return result"
   ]
  },
  {
   "cell_type": "code",
   "execution_count": 14,
   "metadata": {},
   "outputs": [
    {
     "name": "stdout",
     "output_type": "stream",
     "text": [
      "CPU times: user 190 ms, sys: 11.5 ms, total: 201 ms\n",
      "Wall time: 204 ms\n"
     ]
    }
   ],
   "source": [
    "%%time\n",
    "rating_range = valoracionPonderada(users_ratings, 10)"
   ]
  },
  {
   "cell_type": "code",
   "execution_count": 15,
   "metadata": {},
   "outputs": [
    {
     "data": {
      "text/plain": [
       "[(85788.0, 1670.8675517089694),\n",
       " (81417.0, 418.80799013817307),\n",
       " (80880.0, 352.6259699868691),\n",
       " (3594.0, 109.99149199617712),\n",
       " (60.0, 108.45349422246125),\n",
       " (2759.0, 96.57064452774712),\n",
       " (2500.0, 94.2367475077849),\n",
       " (339.0, 80.91652896148034),\n",
       " (2496.0, 76.21049606159426),\n",
       " (1272.0, 72.24006304234383)]"
      ]
     },
     "execution_count": 15,
     "metadata": {},
     "output_type": "execute_result"
    }
   ],
   "source": [
    "rating_range[:10]"
   ]
  },
  {
   "cell_type": "code",
   "execution_count": 16,
   "metadata": {},
   "outputs": [
    {
     "data": {
      "text/plain": [
       "[(325.0, -42.795143737797574),\n",
       " (26171.0, -44.511793342212584),\n",
       " (54648.0, -45.98945526940052),\n",
       " (4471.0, -65.58011834579297),\n",
       " (79.0, -65.58548021127913),\n",
       " (519.0, -81.33370525681559),\n",
       " (3498.0, -95.65524500553492),\n",
       " (6643.0, -124.63207926747123),\n",
       " (1670.0, -164.64580396220637),\n",
       " (2574.0, -205.33413427217852)]"
      ]
     },
     "execution_count": 16,
     "metadata": {},
     "output_type": "execute_result"
    }
   ],
   "source": [
    "rating_range[-10:]"
   ]
  },
  {
   "cell_type": "markdown",
   "metadata": {},
   "source": [
    "## Conclusiones\n",
    "\n",
    "Los recomendadores vistos hasta el momento permiten mejorar de una forma muy sencilla sitios web y otras aplicaciones similares para sintonizar mejor con los usuarios y sugerirles productos que les puedan interesar, mejorando así tanto su satisfacción con la aplicación como los éxitos potenciales de venta o acceso.\n",
    "\n",
    "Las limitaciones de los métodos vistos hasta ahora son que, como se ha explicado, son métodos basados en memoria: requieren almacenar y procesar todos los datos cada vez que se realiza una consulta. De este modo, una operación sencilla no resulta excesivamente costosa, pero como se tiene que repetir\n",
    "completamente en cada consulta puede dar lugar a una carga computacional y de memoria desmesurada en aplicaciones medianas y grandes.\n",
    "\n",
    "Otra limitación fundamental es que estos métodos de recomendación no abstraen los datos de ninguna forma, es decir, no proporcionan información global acerca de los datos de los que se dispone, con lo que su uso está limitado a producir recomendaciones de productos, pero no pueden utilizarse para abordar estudios más complejos sobre los tipos de usuarios o productos de que se dispone, estudios que son esenciales para analizar el funcionamiento de la aplicación y diseñar su futuro. \n",
    "\n",
    "**Los algoritmos de agrupamiento (clustering) sí abstraen y producen información de alto nivel a partir de los datos disponibles.**"
   ]
  }
 ],
 "metadata": {
  "interpreter": {
   "hash": "743b4d35b2a1c24988db8b5bb0ff95741e6ad20b34322eac0b65b3036036236a"
  },
  "kernelspec": {
   "display_name": "Python 3.8.5 64-bit ('base': conda)",
   "name": "python3"
  },
  "language_info": {
   "name": "python",
   "version": ""
  }
 },
 "nbformat": 4,
 "nbformat_minor": 4
}