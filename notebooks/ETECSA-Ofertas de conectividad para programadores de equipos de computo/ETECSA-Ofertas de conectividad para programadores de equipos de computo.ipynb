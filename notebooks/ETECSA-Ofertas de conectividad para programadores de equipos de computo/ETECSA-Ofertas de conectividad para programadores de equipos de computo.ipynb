{
 "cells": [
  {
   "cell_type": "code",
   "execution_count": 1,
   "metadata": {},
   "outputs": [],
   "source": [
    "import pandas as pd\n",
    "import numpy as np"
   ]
  },
  {
   "cell_type": "code",
   "execution_count": 2,
   "metadata": {},
   "outputs": [],
   "source": [
    "# 1 kbit = 0.000125 MB\n",
    "MBbyKb = 0.000125"
   ]
  },
  {
   "cell_type": "code",
   "execution_count": 3,
   "metadata": {},
   "outputs": [],
   "source": [
    "data = {\n",
    "    'Velocidad bajada (Kbps)': [2048, 2048], \n",
    "    'Velocidad subida (Kbps)': [1024, 1024], \n",
    "    'Velocidad bajada MB': [2048 * MBbyKb, 2048 * MBbyKb],\n",
    "    'Velocidad subida MB': [1024 * MBbyKb, 2048 * MBbyKb],\n",
    "    'Cantidad de horas mensual': [240, 480],\n",
    "    'Tarifa mensual CUP': [2000, 3500],\n",
    "    'Tarifa mensual pago por TF': [(2000 - 2000*0.10), (3500 - 3500*0.10)],\n",
    "    'Precio x hora': [(2000/240), (3500/480)],\n",
    "    'Precio x hora pago por TF': [((2000 - 2000*0.10)/240), ((3500 - 3500*0.10)/480)],\n",
    "}"
   ]
  },
  {
   "cell_type": "code",
   "execution_count": 4,
   "metadata": {},
   "outputs": [],
   "source": [
    "data = pd.DataFrame(data)"
   ]
  },
  {
   "cell_type": "code",
   "execution_count": 5,
   "metadata": {},
   "outputs": [
    {
     "data": {
      "text/html": [
       "<div>\n",
       "<style scoped>\n",
       "    .dataframe tbody tr th:only-of-type {\n",
       "        vertical-align: middle;\n",
       "    }\n",
       "\n",
       "    .dataframe tbody tr th {\n",
       "        vertical-align: top;\n",
       "    }\n",
       "\n",
       "    .dataframe thead th {\n",
       "        text-align: right;\n",
       "    }\n",
       "</style>\n",
       "<table border=\"1\" class=\"dataframe\">\n",
       "  <thead>\n",
       "    <tr style=\"text-align: right;\">\n",
       "      <th></th>\n",
       "      <th>Velocidad bajada (Kbps)</th>\n",
       "      <th>Velocidad subida (Kbps)</th>\n",
       "      <th>Velocidad bajada MB</th>\n",
       "      <th>Velocidad subida MB</th>\n",
       "      <th>Cantidad de horas mensual</th>\n",
       "      <th>Tarifa mensual CUP</th>\n",
       "      <th>Tarifa mensual pago por TF</th>\n",
       "      <th>Precio x hora</th>\n",
       "      <th>Precio x hora pago por TF</th>\n",
       "    </tr>\n",
       "  </thead>\n",
       "  <tbody>\n",
       "    <tr>\n",
       "      <th>0</th>\n",
       "      <td>2048</td>\n",
       "      <td>1024</td>\n",
       "      <td>0.256</td>\n",
       "      <td>0.128</td>\n",
       "      <td>240</td>\n",
       "      <td>2000</td>\n",
       "      <td>1800.0</td>\n",
       "      <td>8.333333</td>\n",
       "      <td>7.5000</td>\n",
       "    </tr>\n",
       "    <tr>\n",
       "      <th>1</th>\n",
       "      <td>2048</td>\n",
       "      <td>1024</td>\n",
       "      <td>0.256</td>\n",
       "      <td>0.256</td>\n",
       "      <td>480</td>\n",
       "      <td>3500</td>\n",
       "      <td>3150.0</td>\n",
       "      <td>7.291667</td>\n",
       "      <td>6.5625</td>\n",
       "    </tr>\n",
       "  </tbody>\n",
       "</table>\n",
       "</div>"
      ],
      "text/plain": [
       "   Velocidad bajada (Kbps)  Velocidad subida (Kbps)  Velocidad bajada MB  \\\n",
       "0                     2048                     1024                0.256   \n",
       "1                     2048                     1024                0.256   \n",
       "\n",
       "   Velocidad subida MB  Cantidad de horas mensual  Tarifa mensual CUP  \\\n",
       "0                0.128                        240                2000   \n",
       "1                0.256                        480                3500   \n",
       "\n",
       "   Tarifa mensual pago por TF  Precio x hora  Precio x hora pago por TF  \n",
       "0                      1800.0       8.333333                     7.5000  \n",
       "1                      3150.0       7.291667                     6.5625  "
      ]
     },
     "execution_count": 5,
     "metadata": {},
     "output_type": "execute_result"
    }
   ],
   "source": [
    "data"
   ]
  },
  {
   "cell_type": "markdown",
   "metadata": {},
   "source": [
    "### Análisis de la tarifa plana\n",
    "\n",
    "Asumiremos que el servicio se encuentra disponible 24 horas todos los días del mes, sin embargo usted debe dormir al menos 6 horas al día. Asumiremos que el resto de las horas del día (18 horas) usted se mantiene conectado, y procesaremos los meses como si todos tuvieran 30 días."
   ]
  },
  {
   "cell_type": "code",
   "execution_count": 6,
   "metadata": {},
   "outputs": [
    {
     "data": {
      "text/plain": [
       "540"
      ]
     },
     "execution_count": 6,
     "metadata": {},
     "output_type": "execute_result"
    }
   ],
   "source": [
    "horas_al_mes = 18*30\n",
    "\n",
    "horas_al_mes"
   ]
  },
  {
   "cell_type": "code",
   "execution_count": 7,
   "metadata": {},
   "outputs": [],
   "source": [
    "velocidad_bajada_kb = np.array([512, 512, 1024, 1536, 2048, 2048, 3072, 4096, 5120, 6144])\n",
    "velocidad_subida_kb = np.array([128, 256, 512, 512, 512, 1024, 1024, 1024, 1024, 1024])\n",
    "velocidad_bajada_mb = velocidad_bajada_kb*MBbyKb\n",
    "velocidad_subida_mb = velocidad_subida_kb*MBbyKb\n",
    "cantidad_horas_mensual = np.array([horas_al_mes]*10)\n",
    "tarifa_mensual = np.array([1250, 2000, 2750, 4500, 7000, 8250, 13000, 20000, 22250, 24125])\n",
    "tarifa_mensual_pago_tf = [ p-(p*0.10) for p in tarifa_mensual]\n",
    "precio_por_hora = [p/horas_al_mes for p in tarifa_mensual]\n",
    "precio_por_hora_pago_tf = [p/horas_al_mes for p in tarifa_mensual_pago_tf]"
   ]
  },
  {
   "cell_type": "code",
   "execution_count": 8,
   "metadata": {},
   "outputs": [],
   "source": [
    "data_tarifa_plana = {\n",
    "    'Velocidad bajada (Kbps)': velocidad_bajada_kb, \n",
    "    'Velocidad subida (Kbps)': velocidad_subida_kb, \n",
    "    'Velocidad bajada MB': velocidad_bajada_mb,\n",
    "    'Velocidad subida MB': velocidad_subida_mb,\n",
    "    'Cantidad de horas mensual': cantidad_horas_mensual,\n",
    "    'Tarifa mensual CUP': tarifa_mensual,\n",
    "    'Tarifa mensual pago por TF': tarifa_mensual_pago_tf,\n",
    "    'Precio x hora': precio_por_hora,\n",
    "    'Precio x hora pago por TF': precio_por_hora_pago_tf,\n",
    "}"
   ]
  },
  {
   "cell_type": "code",
   "execution_count": 9,
   "metadata": {},
   "outputs": [],
   "source": [
    "data_tarifa_plana = pd.DataFrame(data_tarifa_plana)"
   ]
  },
  {
   "cell_type": "code",
   "execution_count": 10,
   "metadata": {},
   "outputs": [
    {
     "data": {
      "text/html": [
       "<div>\n",
       "<style scoped>\n",
       "    .dataframe tbody tr th:only-of-type {\n",
       "        vertical-align: middle;\n",
       "    }\n",
       "\n",
       "    .dataframe tbody tr th {\n",
       "        vertical-align: top;\n",
       "    }\n",
       "\n",
       "    .dataframe thead th {\n",
       "        text-align: right;\n",
       "    }\n",
       "</style>\n",
       "<table border=\"1\" class=\"dataframe\">\n",
       "  <thead>\n",
       "    <tr style=\"text-align: right;\">\n",
       "      <th></th>\n",
       "      <th>Velocidad bajada (Kbps)</th>\n",
       "      <th>Velocidad subida (Kbps)</th>\n",
       "      <th>Velocidad bajada MB</th>\n",
       "      <th>Velocidad subida MB</th>\n",
       "      <th>Cantidad de horas mensual</th>\n",
       "      <th>Tarifa mensual CUP</th>\n",
       "      <th>Tarifa mensual pago por TF</th>\n",
       "      <th>Precio x hora</th>\n",
       "      <th>Precio x hora pago por TF</th>\n",
       "    </tr>\n",
       "  </thead>\n",
       "  <tbody>\n",
       "    <tr>\n",
       "      <th>0</th>\n",
       "      <td>512</td>\n",
       "      <td>128</td>\n",
       "      <td>0.064</td>\n",
       "      <td>0.016</td>\n",
       "      <td>540</td>\n",
       "      <td>1250</td>\n",
       "      <td>1125.0</td>\n",
       "      <td>2.314815</td>\n",
       "      <td>2.083333</td>\n",
       "    </tr>\n",
       "    <tr>\n",
       "      <th>1</th>\n",
       "      <td>512</td>\n",
       "      <td>256</td>\n",
       "      <td>0.064</td>\n",
       "      <td>0.032</td>\n",
       "      <td>540</td>\n",
       "      <td>2000</td>\n",
       "      <td>1800.0</td>\n",
       "      <td>3.703704</td>\n",
       "      <td>3.333333</td>\n",
       "    </tr>\n",
       "    <tr>\n",
       "      <th>2</th>\n",
       "      <td>1024</td>\n",
       "      <td>512</td>\n",
       "      <td>0.128</td>\n",
       "      <td>0.064</td>\n",
       "      <td>540</td>\n",
       "      <td>2750</td>\n",
       "      <td>2475.0</td>\n",
       "      <td>5.092593</td>\n",
       "      <td>4.583333</td>\n",
       "    </tr>\n",
       "    <tr>\n",
       "      <th>3</th>\n",
       "      <td>1536</td>\n",
       "      <td>512</td>\n",
       "      <td>0.192</td>\n",
       "      <td>0.064</td>\n",
       "      <td>540</td>\n",
       "      <td>4500</td>\n",
       "      <td>4050.0</td>\n",
       "      <td>8.333333</td>\n",
       "      <td>7.500000</td>\n",
       "    </tr>\n",
       "    <tr>\n",
       "      <th>4</th>\n",
       "      <td>2048</td>\n",
       "      <td>512</td>\n",
       "      <td>0.256</td>\n",
       "      <td>0.064</td>\n",
       "      <td>540</td>\n",
       "      <td>7000</td>\n",
       "      <td>6300.0</td>\n",
       "      <td>12.962963</td>\n",
       "      <td>11.666667</td>\n",
       "    </tr>\n",
       "    <tr>\n",
       "      <th>5</th>\n",
       "      <td>2048</td>\n",
       "      <td>1024</td>\n",
       "      <td>0.256</td>\n",
       "      <td>0.128</td>\n",
       "      <td>540</td>\n",
       "      <td>8250</td>\n",
       "      <td>7425.0</td>\n",
       "      <td>15.277778</td>\n",
       "      <td>13.750000</td>\n",
       "    </tr>\n",
       "    <tr>\n",
       "      <th>6</th>\n",
       "      <td>3072</td>\n",
       "      <td>1024</td>\n",
       "      <td>0.384</td>\n",
       "      <td>0.128</td>\n",
       "      <td>540</td>\n",
       "      <td>13000</td>\n",
       "      <td>11700.0</td>\n",
       "      <td>24.074074</td>\n",
       "      <td>21.666667</td>\n",
       "    </tr>\n",
       "    <tr>\n",
       "      <th>7</th>\n",
       "      <td>4096</td>\n",
       "      <td>1024</td>\n",
       "      <td>0.512</td>\n",
       "      <td>0.128</td>\n",
       "      <td>540</td>\n",
       "      <td>20000</td>\n",
       "      <td>18000.0</td>\n",
       "      <td>37.037037</td>\n",
       "      <td>33.333333</td>\n",
       "    </tr>\n",
       "    <tr>\n",
       "      <th>8</th>\n",
       "      <td>5120</td>\n",
       "      <td>1024</td>\n",
       "      <td>0.640</td>\n",
       "      <td>0.128</td>\n",
       "      <td>540</td>\n",
       "      <td>22250</td>\n",
       "      <td>20025.0</td>\n",
       "      <td>41.203704</td>\n",
       "      <td>37.083333</td>\n",
       "    </tr>\n",
       "    <tr>\n",
       "      <th>9</th>\n",
       "      <td>6144</td>\n",
       "      <td>1024</td>\n",
       "      <td>0.768</td>\n",
       "      <td>0.128</td>\n",
       "      <td>540</td>\n",
       "      <td>24125</td>\n",
       "      <td>21712.5</td>\n",
       "      <td>44.675926</td>\n",
       "      <td>40.208333</td>\n",
       "    </tr>\n",
       "  </tbody>\n",
       "</table>\n",
       "</div>"
      ],
      "text/plain": [
       "   Velocidad bajada (Kbps)  Velocidad subida (Kbps)  Velocidad bajada MB  \\\n",
       "0                      512                      128                0.064   \n",
       "1                      512                      256                0.064   \n",
       "2                     1024                      512                0.128   \n",
       "3                     1536                      512                0.192   \n",
       "4                     2048                      512                0.256   \n",
       "5                     2048                     1024                0.256   \n",
       "6                     3072                     1024                0.384   \n",
       "7                     4096                     1024                0.512   \n",
       "8                     5120                     1024                0.640   \n",
       "9                     6144                     1024                0.768   \n",
       "\n",
       "   Velocidad subida MB  Cantidad de horas mensual  Tarifa mensual CUP  \\\n",
       "0                0.016                        540                1250   \n",
       "1                0.032                        540                2000   \n",
       "2                0.064                        540                2750   \n",
       "3                0.064                        540                4500   \n",
       "4                0.064                        540                7000   \n",
       "5                0.128                        540                8250   \n",
       "6                0.128                        540               13000   \n",
       "7                0.128                        540               20000   \n",
       "8                0.128                        540               22250   \n",
       "9                0.128                        540               24125   \n",
       "\n",
       "   Tarifa mensual pago por TF  Precio x hora  Precio x hora pago por TF  \n",
       "0                      1125.0       2.314815                   2.083333  \n",
       "1                      1800.0       3.703704                   3.333333  \n",
       "2                      2475.0       5.092593                   4.583333  \n",
       "3                      4050.0       8.333333                   7.500000  \n",
       "4                      6300.0      12.962963                  11.666667  \n",
       "5                      7425.0      15.277778                  13.750000  \n",
       "6                     11700.0      24.074074                  21.666667  \n",
       "7                     18000.0      37.037037                  33.333333  \n",
       "8                     20025.0      41.203704                  37.083333  \n",
       "9                     21712.5      44.675926                  40.208333  "
      ]
     },
     "execution_count": 10,
     "metadata": {},
     "output_type": "execute_result"
    }
   ],
   "source": [
    "data_tarifa_plana"
   ]
  },
  {
   "cell_type": "code",
   "execution_count": 11,
   "metadata": {},
   "outputs": [],
   "source": [
    "import matplotlib.pyplot as plt\n",
    "\n",
    "plt.rcParams['figure.figsize'] = (12, 6)\n",
    "plt.style.use('seaborn-darkgrid')"
   ]
  },
  {
   "cell_type": "code",
   "execution_count": 12,
   "metadata": {},
   "outputs": [
    {
     "data": {
      "image/png": "[encoded data removed]",
      "text/plain": [
       "<Figure size 864x432 with 1 Axes>"
      ]
     },
     "metadata": {},
     "output_type": "display_data"
    }
   ],
   "source": [
    "fig, ax = plt.subplots()\n",
    "ax.plot(data_tarifa_plana['Precio x hora'], data_tarifa_plana['Velocidad bajada MB'])\n",
    "ax.set_xlabel('Precio x hora')\n",
    "ax.set_ylabel('Velocidad de bajada MB/s')\n",
    "\n",
    "plt.show()"
   ]
  }
 ],
 "metadata": {
  "kernelspec": {
   "display_name": "Python 3",
   "language": "python",
   "name": "python3"
  },
  "language_info": {
   "codemirror_mode": {
    "name": "ipython",
    "version": 3
   },
   "file_extension": ".py",
   "mimetype": "text/x-python",
   "name": "python",
   "nbconvert_exporter": "python",
   "pygments_lexer": "ipython3",
   "version": "3.8.5"
  }
 },
 "nbformat": 4,
 "nbformat_minor": 4
}